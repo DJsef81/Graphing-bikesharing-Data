{
 "cells": [
  {
   "cell_type": "raw",
   "metadata": {},
   "source": [
    "14.4.1 Introduction to Dashboards\n",
    "\n",
    "Now that we've started to answer some questions with our data, we need to begin piecing it all together. Each of these pieces will lead us closer to being able to tell a story with our data. Let's explore the role of Tableau dashboards in the data storytelling process.\n",
    "\n",
    "In Tableau, dashboards can help us identify areas that might need to be explored more deeply. For example, if one map seems to have more popular locations, we may need to look more closely at how many bikes are stationed in those areas and whether there are enough of them. Let's review how dashboards will help us accomplish these kinds of tasks."
   ]
  },
  {
   "cell_type": "raw",
   "metadata": {},
   "source": [
    "Dashboard Overview\n",
    "Dashboards in Tableau are simply collections of worksheets. You can arrange the worksheets however you like within the dashboard. Dashboards allow you to simultaneously view multiple worksheets. When you modify a worksheet, it automatically updates the dashboard.\n",
    "\n"
   ]
  },
  {
   "cell_type": "raw",
   "metadata": {},
   "source": [
    "Benefits of Dashboards\n",
    "In Tableau, dashboards and stories are similar, so it's important to understand their key differences and functions.\n",
    "\n",
    "The primary function of dashboards is not necessarily to tell a story, but rather to organize and view data in a central location. Dashboards allow us to share data in a way our audience will easily understand, rather than simply showing them a bunch of worksheets.\n",
    "\n"
   ]
  },
  {
   "cell_type": "raw",
   "metadata": {},
   "source": [
    "14.4.2 Dashboard Best Practices\n",
    "\n",
    "In order to explore dashboard best practices, we need to actually create a dashboard and then design it. Let's create our first dashboard!\n",
    "\n"
   ]
  },
  {
   "cell_type": "raw",
   "metadata": {},
   "source": [
    "Creating a Dashboard\n",
    "\n",
    "To create a dashboard, click the middle tab (that looks like a grid with a plus sign) at the bottom of your workspace, as shown below:\n",
    "\n",
    "1. Let's rename the dashboard to reflect what we'll be using it for. (Remember, you can rename your dashboard at any time depending on how it changes.) For now we'll call it \"NYC Citi Bike.\" Rename it following the same steps you used to change the titles of worksheets.\n",
    "\n",
    "Next, decide the size of the dashboard. Depending on the audience and how they'll be viewing the dashboard, you may want to consider changing the size to better fit their devices.\n",
    "\n",
    "Look in the top left of the dashboard workspace where you should see a dropdown of options, as shown in the following image:\n",
    "\n",
    "You can either choose a fixed size, automatic, or range. Generally, you'll want to stick with fixed size or automatic. If you don't know what devices your audience will have, it might be better to choose automatic. However, if you know your audience will have about the same computer screen size, you can choose the fixed size.\n",
    "\n",
    "For simplicity's sake, let's choose the fixed size for a generic browser.\n",
    "\n"
   ]
  },
  {
   "cell_type": "raw",
   "metadata": {},
   "source": [
    "Designing the Dashboard\n",
    "\n",
    "Dashboards provide a way for us to display all of the worksheets that we've already created, in order to piece together the bigger picture. The main purpose of a dashboard is not necessarily to tell a story, but rather to display data in a readable format.\n",
    "\n",
    "When designing a dashboard, it's important to prioritize which worksheets go on the dashboard first. Generally, the first worksheet will be the most prominent and show the most informative data, so be sure to get the data you care the most about on the page first.\n",
    "\n",
    "Let's look at a few key aspects of designing a dashboard: purpose and audience, filtering, highlighting, and objects."
   ]
  },
  {
   "cell_type": "raw",
   "metadata": {},
   "source": [
    "Purpose and Audience\n",
    "It's important to understand who your audience is when creating a dashboard in order to ensure the data is relevant to them. For example, an executive may be more interested in the specific locations where bikes will be stored, while a developer may want to know specific data about the site, like the location, number of people using it, and more.\n",
    "\n",
    "Filtering\n",
    "Filtering plays a big role in operability of your dashboard. You can use filters to display certain subsets of data.\n",
    "\n",
    "Highlighting\n",
    "The highlighting feature allows you to select subsets of data. To highlight, drag your mouse over a data subset, which will essentially filter out everything but the data you selected. For example, take a look at the August Peak Hours worksheet:\n",
    "\n",
    "Suppose we want to find the number of rides from 6:00 a.m. to 10:00 a.m. To do this, click the 6:00 a.m. bar and then drag to the 10:00 a.m. bar, as shown in the following image:\n",
    "\n",
    "If you place your mouse over the hours, you'll see that the sum and the number of items are selected. Select a subset of the hours in the bar chart. Try looking at other dashboards to see the kinds of insights you can get by highlighting subsets of data.\n",
    "\n"
   ]
  },
  {
   "cell_type": "raw",
   "metadata": {},
   "source": [
    "Objects\n",
    "Most of the time, you'll add worksheets to your dashboard, but occasionally you may need to add links or photos. For example, you may want to add your company logo at the top of a worksheet, or add a link to an external website. You can add both of these items to your dashboard using the objects, which is shown in the following image:\n",
    "\n",
    "You can drag these objects into your dashboard. You should be aware of two types of objects: tiled objects and floating objects. Tiled objects are essentially a structured way to arrange your dashboard. Floating objects allow you to change the size of the object and can overlap with other objects. Try both now to see the differences."
   ]
  },
  {
   "cell_type": "raw",
   "metadata": {},
   "source": [
    "Structuring Worksheets in a Dashboard\n",
    "Worksheets in your dashboard should be structured in an organized, thoughtful way. Include a title for your worksheet, and put the most important data in the top left corner. This is where your eyes will gravitate to first, so make it easy to read.\n",
    "\n",
    "After adding the most important information in the top left, you can add more information on the right. Most of the time, your audience will read the information in the dashboard from left to right. Then, place the rest of the worksheets around your primary worksheet.\n",
    "\n",
    "Remember, structuring worksheets is a muscle that you will build over time—but it takes practice!\n",
    "\n"
   ]
  },
  {
   "cell_type": "raw",
   "metadata": {},
   "source": [
    "Ensure Fast Load Times\n",
    "Something you need to consider is the load time for your data, which can be affected by the data source you're using. For example, if you're using a database from a database server, Tableau will need to query the database. Depending on how much data there is, your dashboard can be slowed down significantly.\n",
    "\n",
    "For this project, you don't need to worry about optimizing your dashboard. But if you are interested in learning more on this subject, see this article on tips to make your dashboards more performant (Links to an external site.)."
   ]
  },
  {
   "cell_type": "raw",
   "metadata": {},
   "source": [
    "14.4.3 Add Worksheets to the Citi Bike Dashboard\n",
    "\n",
    "As we begin to build our dashboard, consider our main objective: we want to show investors the most important relevant data so that they will support the Des Moines bike-sharing business.\n",
    "\n",
    "We'll create a sample dashboard to understand the overall process. Once you feel comfortable adding worksheets, feel free to add as many as you like. Also, while this process requires creativity, keep in mind the goal you are trying to accomplish. Finally, remember that your dashboard won't look exactly like those of your peers, and that's a good thing. Let's get started!\n"
   ]
  },
  {
   "cell_type": "raw",
   "metadata": {},
   "source": [
    "Add a Title\n",
    "Start by adding a title to the \"NYC Citi Bike\" dashboard. We can call it \"NYC Citi Bike Dashboard\" for now. To do this, click the Floating button.\n",
    "\n",
    "Next, drag the Text object to anywhere on the screen. This will open a window where you can edit the title of the dashboard\n",
    "\n",
    "Change the size of the title to 16, and move the title to the top left-side of the page\n",
    "\n",
    "Nice! Now let's look at our worksheet options."
   ]
  },
  {
   "cell_type": "raw",
   "metadata": {},
   "source": [
    "Select Worksheets to Add\n",
    "Look through the worksheets you've created so far. Which ones are the most relevant for our audience? Consider again the data that we want to present and what our audience is most interested in. Our audience—the investors—want to learn how the Citi Bike program works during the month of August in New York City.\n",
    "\n",
    "First look at the Average Trip Duration worksheet. This worksheet is a good candidate for the primary spot on our dashboard. You will need to select 'Tiled' before we can move forward. Now, your dashboard should look like this.\n",
    "\n",
    "You'll notice that the worksheet is taking up most of the screen, which is not what we want—we want to be able to add other worksheets to the dashboard. To fix this, click the arrow in the top right of the worksheet, and then select \"Floating,\" as shown in the following image. This will reduce the size of the worksheet so that you can easily adjust and move it around as you see fit. When you are adding a worksheet, you can always just select \"Tiled\" or Floating\" first, then drag your worksheet onto the dashboard.\n",
    "\n",
    "Next, we need to identify the total number of rides during the month of August. We'll use the Number of Trips worksheet for this, so drag the worksheet to your dashboard. Be sure to change it to \"floating.\"\n",
    "\n",
    "You may notice that the font size is relatively small, so let's change it. Return to the worksheet and click the Text button in the Marks section, and then increase the font size so that it's more readable. See the following image:\n",
    "\n",
    "Go back to the dashboard and adjust the size of the worksheet window. Use your best judgment to reposition it.\n",
    "\n"
   ]
  },
  {
   "cell_type": "raw",
   "metadata": {},
   "source": [
    "Next, let's add the Gender Breakdown worksheet by dragging it to the dashboard. Remember to change it to a floating worksheet. Here's what your dashboard should look like now:\n"
   ]
  },
  {
   "cell_type": "raw",
   "metadata": {},
   "source": [
    "Let's add one more worksheet: Top Starting Location.\n",
    "\n",
    "Drag the worksheet to your dashboard and position it as you see fit. Here's what your dashboard might look like now, depending on where you placed it.\n",
    "\n",
    "You've created your first dashboard—nice work! There's a lot you can do in a dashboard, so the best way to optimize the design is to keep playing around with the features. Feel free to keep adjusting your dashboard, and remember that yours may not look like your peers' dashboards—and that's okay!\n",
    "\n",
    "Styling Dashboards\n",
    "Dashboards not only need to be informative, but also aesthetically pleasing. Most of the cosmetic changes occur in the worksheets, but you should still structure the dashboards so that they are easy to read and understand.\n",
    "\n",
    "Consider how you could improve the current design and structure of your dashboard right now. Maybe you could add or remove a title of a worksheet, or make one worksheet more prominent than the others. And if you do want to make one worksheet more prominent, consider why."
   ]
  },
  {
   "cell_type": "raw",
   "metadata": {},
   "source": []
  }
 ],
 "metadata": {
  "kernelspec": {
   "display_name": "PythonData",
   "language": "python",
   "name": "pythondata"
  },
  "language_info": {
   "codemirror_mode": {
    "name": "ipython",
    "version": 3
   },
   "file_extension": ".py",
   "mimetype": "text/x-python",
   "name": "python",
   "nbconvert_exporter": "python",
   "pygments_lexer": "ipython3",
   "version": "3.7.7"
  }
 },
 "nbformat": 4,
 "nbformat_minor": 4
}
