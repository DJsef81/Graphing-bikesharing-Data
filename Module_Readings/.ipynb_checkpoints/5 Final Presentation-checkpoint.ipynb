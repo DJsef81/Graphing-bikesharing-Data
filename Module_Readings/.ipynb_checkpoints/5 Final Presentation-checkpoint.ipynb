{
 "cells": [
  {
   "cell_type": "raw",
   "metadata": {},
   "source": [
    "14.5.1 Introduction to Tableau Stories\n",
    "\n",
    "Tableau Dashboards vs. Tableau Stories\n",
    "Earlier we discussed how dashboards and stories are similar but have key differences. Dashboards are intended as a way to view data side by side. Stories also allow us to view different data simultaneously, but their main purpose is to tell a story, share a point of view, or convince an audience to take a particular stance.\n",
    "\n",
    "Stories do this by sequencing visualizations to help the audience understand the bigger picture. \n",
    "\n",
    "In our case, we want to create a story that explains why you think, given the data, that starting a bike sharing company in Des Moines is a good idea. For this we'll use data from our worksheets with additional elements that provide more context. These additional elements could be boxes, text, arrows, and more.\n",
    "\n",
    "Before we can do this, let's get a quick overview of the story workspace and create our first story."
   ]
  },
  {
   "cell_type": "raw",
   "metadata": {},
   "source": [
    "Create a Story\n",
    "In Tableau, the story workspace is similar to the dashboard workspace but with a few small differences. We'll go over those differences, but first let's take a look at how the workspace is laid out. You will need to create a new story by clicking the story icon at the bottom of the Tableau workspace."
   ]
  },
  {
   "cell_type": "raw",
   "metadata": {},
   "source": [
    "The story workspace is fairly straightforward. You can drag a worksheet or dashboard into the workspace, and then you can add a caption or comments about the story.\n",
    "\n",
    "As an example, let's drag the Top Starting Locations worksheet into our story, which will look like the following:"
   ]
  },
  {
   "cell_type": "raw",
   "metadata": {},
   "source": [
    "Now you can add a caption or text description. Text descriptions are used for describing certain parts of the story and should be used to clarify certain outliers in the data, or why certain data makes the most sense. Let's add text over Manhattan to indicate this area may have more bike rides due to the number of tourists.\n",
    "\n",
    "Great work! You've created your first story. Next, let's move on to story points.\n",
    "\n"
   ]
  },
  {
   "cell_type": "raw",
   "metadata": {},
   "source": [
    "Add Story Points\n",
    "Tableau stories have a feature called story points. Story points are simply different points you would like to make about your data. Think of them like the pages in a graphic novel. No image is the same, but they are all part of the larger story. This is the goal of story points, which we'll go into more detail about later. For now, let's create a story point so you know the process.\n",
    "\n",
    "To create a story point, click the Blank button on the Story tab, as shown in the following image. This will allow you to drag another worksheet into the story point here."
   ]
  },
  {
   "cell_type": "raw",
   "metadata": {},
   "source": [
    "SKILL DRILL\n",
    "\n",
    "Work on finishing the story you want to tell with the data. Add a few more story points to make the story complete.\n",
    "\n",
    "Data Visualization Process\n",
    "When creating Tableau stories, or data visualizations in general, there's a general process that should be followed. You can use this process for most visualizations you'll create.\n",
    "\n",
    "1. Select your questions. During this step, you'll consider which results you want to share with your audience. What do they want to see? How can we use that information to make their decision making process easier?\n",
    "\n",
    "2. Execute independent research. You'll need to look at other relevant pieces of information to build a bigger picture. Search other sources to find information that will make your visualization more powerful.\n",
    "\n",
    "3. Craft your Tableau story. This is when you create your story, primarily from worksheets and other visuals, with descriptions for each of them.\n",
    "\n",
    "4. Create a written analysis. The written analysis is intended to provide additional insight into what we're trying to convey to our audience. This is a good place to add extra detail so that everyone can get on the same page.\n",
    "\n",
    "After you've practiced creating Tableau stories, let's create a story for our investors. The purpose of this story is to help them determine whether they should invest in a bike-sharing program in Des Moines."
   ]
  }
 ],
 "metadata": {
  "kernelspec": {
   "display_name": "PythonData",
   "language": "python",
   "name": "pythondata"
  },
  "language_info": {
   "codemirror_mode": {
    "name": "ipython",
    "version": 3
   },
   "file_extension": ".py",
   "mimetype": "text/x-python",
   "name": "python",
   "nbconvert_exporter": "python",
   "pygments_lexer": "ipython3",
   "version": "3.7.7"
  }
 },
 "nbformat": 4,
 "nbformat_minor": 4
}
