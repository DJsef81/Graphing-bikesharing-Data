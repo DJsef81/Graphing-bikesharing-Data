{
 "cells": [
  {
   "cell_type": "raw",
   "metadata": {},
   "source": [
    "14.1.3 Set Up the Tableau Environment\n",
    "\n",
    "Tableau is an excellent tool for data visualization. It has a very specific purpose: to provide data visualization that is easy to use and understand. Also, while other data visualization tools may require you to write code, with Tableau you don't have to write much, if any, code, which is just one of the reasons it's such a popular visualization tool."
   ]
  },
  {
   "cell_type": "raw",
   "metadata": {},
   "source": [
    "SET UP\n",
    "\n",
    "First, we'll open Tableau and sign in to make sure we can access the Tableau visualization environment, which is where the data source window is located. The visualization environment will also contain the visualizations you'll create later in this module.\n",
    "\n",
    "When you first open Tableau, you will see a Registration window for the trial version of Tableau that requests some information from you. It will look something like the image below. In the Organization field, you can enter \"Student.\"\n",
    "\n",
    "Once your Tableau account is set up, you will be able to see the opening page for Tableau Public, which looks like the following:\n",
    "\n"
   ]
  },
  {
   "cell_type": "raw",
   "metadata": {},
   "source": [
    "14.1.4 Import Data into Tableau\n",
    "\n",
    "Now that our Tableau environment is set up, we can import our data. \n",
    "\n",
    "Let's look at the kind of data we can use, how to connect the data to Tableau, and then how to do some basic data transformations."
   ]
  },
  {
   "cell_type": "raw",
   "metadata": {},
   "source": [
    "Import Citi Bike Data\n",
    "\n",
    "In Tableau, you have a variety of different options when it comes to data sources.You can have flat files such as CSV, PDF, and TXT files, as well as other data sources like databases and data streams. (These will mostly be SQL databases.)\n",
    "\n",
    "There are two primary ways that Tableau connects to the data you provide: through live data or extract data. Both have their benefits and uses, so let's dive a little deeper into each.\n",
    "\n",
    "Live data is primarily databases such as MySQL and Microsoft SQL Server. Live data is just what it sounds like: live data. This type of data is updated every time you view the dashboard, since it's possible that the data has changed in your database.\n",
    "\n",
    "Extract data is primarily when you use files such as CSV, TXT, or PDF. These files remain unchanged unless you pull a new extract of the data. For example, if you update the file, you would have to update it in Tableau as well.\n",
    "\n",
    "For our analysis, we'll import the CSV file, which contains all the data we'll need for this project. Therefore, we'll technically be working with extract data for our project."
   ]
  },
  {
   "cell_type": "raw",
   "metadata": {},
   "source": [
    "First, open the Tableau application. You should see a list of data source options. Since our Citi Bike data is a CSV file, you will need to select the \"More…\" option in the \"To a File\" section.\n",
    "\n",
    "Once you do this, you will have imported your data and will be ready to go."
   ]
  },
  {
   "cell_type": "raw",
   "metadata": {},
   "source": [
    "Available Data Sources\n",
    "There are numerous types of data sources that you can use. We'll select our data source in a moment. For now, you should be familiar with the data sources you can use for other projects.\n",
    "\n",
    "The most popular flat files are Excel files, text files, JSON, PDF, Spatial, and Statistical.\n",
    "The most popular databases are Microsoft SQL Server, MySQL, Oracle, and Amazon Redshift.\n",
    "For more information about data sources, refer to the Tableau website (Links to an external site.).\n",
    "\n",
    "Modify the Data\n",
    "Now we need to make a few modifications so that our data is represented accurately when we view it: rename the columns, change the data types of columns, and join data sources.\n",
    "\n",
    "Rename Columns\n",
    "When data is imported into Tableau, column names can sometimes look incorrect or be difficult to read. In this case, you'll need to change the column names by right-clicking the column name and selecting \"Rename.\"\n",
    "\n",
    "Change Data Types of Columns\n",
    "Tableau tries to infer what kind of data you are importing. For example, if you have integer values in one column, Tableau might think they are string values. You will have to change that in order for Tableau to work properly. You can change the column data type by clicking on the top left icon in the column, and then selecting the correct data type.\n",
    "\n",
    "Join Data Sources\n",
    "One of the best parts about Tableau is that you can join multiple different data sources within Tableau itself. Previously, you learned about joins in SQL. You can use some of the same joins here as well. While we won't need to join any data for our project, you should be familiar with how joins work in Tableau.\n",
    "\n",
    "You can perform four joins in Tableau: inner join, left join, right join, and outer join."
   ]
  },
  {
   "cell_type": "raw",
   "metadata": {},
   "source": [
    "An inner join is the combination of Data Source 1 and Data Source 2. The result of the join is the data that exists in both data sources.The inner join of Data Source 1 and Data Source 2\n",
    "\n",
    "A left join is the combination of Data Source 1 and Data Source 2, but where data from Data Source 1 is kept. It also includes the data that's in both data sources.\n",
    "\n",
    "A right join is the combination of both data sources, but where the data from Data Source 2 is retained. It also includes data that is in both data sources.\n",
    "\n",
    "A full outer join is the combination of all the data in both data sources.\n",
    "\n",
    "To join data in Tableau, you'll need to start by importing your data. When you import your data, you'll need to click on one of the sheets on the left, then it will create a box in the center.\n",
    "\n",
    "If you double click on the button that says Orders in this example. After that, you can double click on the venn diagram to complete different joins."
   ]
  },
  {
   "cell_type": "raw",
   "metadata": {},
   "source": [
    "14.1.5 Overview of Tableau\n",
    "\n",
    "Tableau Public\n",
    "You are currently using Tableau Public, but it's important to understand how it fits into the bigger picture. Tableau Public allows you to create visualizations that are easy to read and understand. Everything you do with Tableau Public occurs on your computer.\n",
    "\n",
    "Tableau Server\n",
    "Tableau Server allows you to privately share your visualizations with others. You can create your visualizations locally in Tableau Public and then you can upload your visualizations to Tableau Server.\n",
    "\n",
    "Sheets, Dashboards, and Stories\n",
    "In Tableau, there are three primary formats you need to be familiar with: worksheets, dashboards, and stories.\n",
    "\n",
    "Worksheets are essentially the building block of the visualizations you will create. Worksheets are made from a variety of plots and graphs. Typically, worksheets will have just one plot or graph each. Dashboards and stories are made up of the worksheets you create. "
   ]
  },
  {
   "cell_type": "raw",
   "metadata": {},
   "source": [
    "Worksheets are the building blocks of our visualizations from which we are able to create dashboards and stories. A worksheet is made up of a single graph or plot, which we will learn how to create later on. Worksheets are customizable, but require almost no actual code.\n",
    "\n",
    "You may have seen a visualization dashboard before, whether in Tableau, PowerBI, or a number of other popular tools. In Tableau, dashboards are a collection of worksheets formatted to present data in a way that is easy to read. There are many things you can do with Tableau dashboards, which we'll discuss later.\n",
    "\n",
    "Tableau stories are simply Tableau dashboards that include narration of what is occuring with the data. We'll dive deeper into stories later, but for now you should know that they are extremely helpful for identifying important analytic points.\n",
    "\n"
   ]
  }
 ],
 "metadata": {
  "kernelspec": {
   "display_name": "PythonData",
   "language": "python",
   "name": "pythondata"
  },
  "language_info": {
   "codemirror_mode": {
    "name": "ipython",
    "version": 3
   },
   "file_extension": ".py",
   "mimetype": "text/x-python",
   "name": "python",
   "nbconvert_exporter": "python",
   "pygments_lexer": "ipython3",
   "version": "3.7.7"
  }
 },
 "nbformat": 4,
 "nbformat_minor": 4
}
