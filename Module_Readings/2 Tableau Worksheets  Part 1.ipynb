{
 "cells": [
  {
   "cell_type": "raw",
   "metadata": {},
   "source": [
    "14.2.1 Set Up Your Tableau Workspace\n",
    "\n",
    "Now that you have a basic understanding of Tableau's main features, you can begin to get acquainted with the Tableau workspace. The Tableau workspace is where you will create your visualization.\n"
   ]
  },
  {
   "cell_type": "raw",
   "metadata": {},
   "source": [
    "Data Pane\n",
    "\n",
    "The first part of the workspace you need to be familiar with is the data fields pane. This is where you'll add all of your columns into the workspace and view them, and then you can add the columns to your worksheets.\n",
    "\n",
    "There are two types of data fields: dimensions and measures. Dimensions are the qualitative values in your dataset, such as names, dates, and geographical data. Measures are the quantitative values in your dataset, which are usually numerically measured.\n",
    "\n",
    "You should be able to see all of the dimensions and measures for the Citi Bike data in the data fields pane. "
   ]
  },
  {
   "cell_type": "raw",
   "metadata": {},
   "source": [
    "Analytics Pane\n",
    "\n",
    "The Analytics Pane is Inside the data field pane. Within this pane are Summarize, Model, and Custom categories, as shown in the following image:\n",
    "\n",
    "Take a look at the options in each category. Note that grayed-out text indicates the option is not available for the data you have selected. If the option is not grayed out, you can use that method of analysis for your data. We won't use these analytics right now, but it's important to know that they are there."
   ]
  },
  {
   "cell_type": "raw",
   "metadata": {},
   "source": [
    "14.2.2 Introduction to Tableau Worksheets\n",
    "\n",
    "In order for your visualizations to have graphs or plots, you will need to create worksheets. As you've already learned, worksheets are the foundation of everything we'll be creating in Tableau. \n",
    "\n",
    "Once you have a worksheet complete, you can add it to a dashboard or story. Let's walk through the basics that you'll need to get started with Tableau worksheets."
   ]
  },
  {
   "cell_type": "raw",
   "metadata": {},
   "source": [
    "Drag and Drop\n",
    "In Tableau, you'll need to drag and drop the measures or dimensions into the worksheet. While you may have needed to write code in other analytic platforms, this is not required in Tableau. You simply just drag the data you want into the workspace, and then make sure it's represented correctly.\n",
    "\n",
    "Filters\n",
    "There are many ways to filter your data in Tableau. The following image shows the section for Tableau filters. To filter by a specific dimension, measure, or data field, you can drag it to the filters section. There are other ways to filter as well, but we'll discuss those later on.\n",
    "\n",
    "Marks\n",
    "Marks in Tableau are essentially how you format your graph or plot. You can change several aspects of any graph you create, including the color, size, text, detail, and tooltip. Be sure to explore each of these options, as they can greatly improve the quality of your worksheets.\n",
    "\n",
    "Here's what the Marks section looks like. Note that you can drag dimensions from the left to the Marks section.\n",
    "\n",
    "Tooltip\n",
    "Another useful tool in Tableau are tooltips, which appear as a popup window when you place your cursor over specific pieces of data. Tableau often creates tooltips automatically for you, but you can also create and customize your own. The following is an example of a tooltip.\n",
    "\n",
    "You can change most of the fonts and styles for the tooltip as well as add data. To edit the tooltip, go to the worksheet you are viewing and then click the tooltip icon in the Marks section, as shown in the following image.\n",
    "\n",
    "When you click the icon, you'll see a screen where you can edit the contents of a specific tooltip.\n",
    "\n",
    "\n"
   ]
  },
  {
   "cell_type": "raw",
   "metadata": {},
   "source": [
    "Measures\n",
    "Earlier we learned that Tableau has measures and dimensions. Within measures, there are discrete measures and continuous measures.\n",
    "\n",
    "Discrete measures are treated as finite values, since there is a countable amount of a given measure. The discrete measures, which are labeled in blue, add headers to the worksheet. An example of a discrete measure is the total number of rides.\n",
    "\n",
    "Continuous measures are essentially measures that are infinite and add axes to the worksheet. Continuous measures are labeled in green. Time is one example of a continuous measure, since there is no defined end.\n",
    "\n"
   ]
  },
  {
   "cell_type": "raw",
   "metadata": {},
   "source": [
    "Sheet Tabs\n",
    "Worksheets, dashboards, and stories will show up as tabs at the bottom of your Tableau workspace. You can switch between these tabs as you would in a web browser, which allows you to more easily manage multiple worksheets, dashboards, and stories much easier.\n",
    "\n",
    "The three tabs are denoted by icons, as shown in the following image. The first icon with the \"+\" (plus sign) and an image that looks like a graph is the worksheet tab. The middle icon, with a grid and a plus sign, is for dashboards. The last icon that resembles a book along with a plus sign, is for stories.\n",
    "\n",
    "Renaming Worksheets\n",
    "At times you will need to rename the worksheets to accurately describe your project. To do this, you have two choices. First, you can double-click on the tab and then edit the name of the tab. The second option is to right-click on the tab and then change the name. You can choose either method—there is no right or wrong way.\n",
    "\n",
    "When naming worksheets, dashboards, and stories, choose a name that accurately represents the data in the tab. Also, since tabs are fairly small, you should choose a name that is concise."
   ]
  },
  {
   "cell_type": "raw",
   "metadata": {},
   "source": [
    "14.2.3 Worksheet Best Practices\n",
    "\n",
    "One thing that came to your mind was that the investors might want the visualizations to look good. You were wondering if there are best practices to be considered while working on these worksheets.\n",
    "\n",
    "Designing data visualizations is a huge field within the data industry, with some jobs devoted to making visualizations look better. While you don't need to know everything about designing worksheets, you should be familiar with some best practices. The Tableau website provides information about best practices for effective dashboards (Links to an external site.), which is a good starting point. You can also find plenty of articles and resources on the Tableau website (Links to an external site.) to help you design better worksheets.\n",
    "\n",
    "Note that there are some areas of worksheet design that you should be aware of, such as accessibility and user experience. We won't go into this topic much in this module, but you should know that a key aspect of worksheet design is making sure they are easy to understand and use."
   ]
  },
  {
   "cell_type": "raw",
   "metadata": {},
   "source": [
    "14.2.4 Using and Portraying Data to Answer Questions\n",
    "\n",
    "You know that you want to use Tableau to create effective visualizations from the Citi Bike data, which Kate can then use to impress potential investors. You also know that the key to getting a good visualization—and, really, any good data analysis—is to start with a question. But what is the right question to ask and how do you portray the answer accurately?\n",
    "\n",
    "The core issue we need to think about is what we absolutely need to know in order to create our bike-sharing program in Des Moines.\n",
    "\n",
    "Once you know the questions you want to ask, the next thing you need to think about is how your audience will perceive the data you present. You want to share your findings in a way that reduces your personal bias and accurately represents what the data is saying.\n",
    "\n",
    "Honesty and integrity in regard to your data is an important concept in data science. A person's opinion can be swayed based on how the data is represented, so you need to consider how your audience will perceive and interpret the results and visualization that you show them.\n",
    "\n",
    "This skill won't come right away; it takes practice. Eventually, you'll be able to determine how others will perceive your work. As you begin creating visualizations in this module, ask your peers how they perceive your designs. Having input from others will help you understand what works and what you may need to change."
   ]
  },
  {
   "cell_type": "raw",
   "metadata": {},
   "source": [
    "SKILL DRILL\n",
    "What questions would you want answered if you were opening a bike-sharing business? Write the questions down."
   ]
  },
  {
   "cell_type": "raw",
   "metadata": {},
   "source": [
    "14.2.5 Determine the Number of Trips\n",
    "\n",
    "how many bike trips were recorded during the month of August? Since August is a beautiful time of the year to rent a bike, we want to use this data as a starting point to determine how many rides we could expect in the city of Des Moines.\n",
    "\n",
    "To answer this question, we need to create a Tableau worksheet that shows the number of trips recorded during our time period. We won't need a plot; we'll simply display the number of recorded rides.\n",
    "\n"
   ]
  },
  {
   "cell_type": "raw",
   "metadata": {},
   "source": [
    "How Many Trips Were Recorded During the Month of August?\n",
    "Let's start by creating the worksheet. Click on the far-left tab of the three shown below. These three tabs can be found in the toolbar near the bottom of your workspace:\n",
    "\n",
    "After clicking, You'll notice that the worksheet is currently named \"Sheet 2,\" so we'll need to change it to something both concise and applicable to the data we'll be analyzing. Let's rename the worksheet \"Number of Rides.\"\n",
    "\n",
    "To rename the worksheet, go to the bottom tab, double-click on \"Sheet 2,\" and type \"Number of Rides.\" This will change the title at the top of your worksheet.\n",
    "\n"
   ]
  },
  {
   "cell_type": "raw",
   "metadata": {},
   "source": [
    "Next, go to the left side of the workspace and look at the Measures section. You should see a measure called 201908-citibike-tripdata.csv (Count). Drag the 201908-citibike-tripdata.csv (Count) measure into the Text box in the Marks section. You'll see that the worksheet is updated with the number of rides.\n",
    "\n",
    "Now click the Text box again to edit the formatting of the number. By clicking on the icon with three dots, you can change the size, color, and style of the number. At this point, all we need to do is make the text larger so it's easier to read. Refer to the following image:\n",
    "\n",
    "Great work! You've found the total number of trips in August: 2,344,224. Now it's time to focus on the next question: how does ridership grow over time?"
   ]
  },
  {
   "cell_type": "raw",
   "metadata": {},
   "source": [
    "14.2.6 Find the Proportion of Short Term Customers to Annual Subscribers\n",
    "\n",
    "Another piece of data you'll want to look into is the number of short-term customers and annual subscribers to the Citi Bike service. This will help us determine the types of customers we could expect for a bike-sharing company in Des Moines. Specifically, you want to find out how the proportion of short-term customers to annual subscribers has changed.\n",
    "\n",
    "For this we'll create a pie chart.\n",
    "\n"
   ]
  },
  {
   "cell_type": "raw",
   "metadata": {},
   "source": [
    "What Is the Proportion of Short-Term Customers to Annual Subscribers?\n",
    "\n",
    "Let's start by creating a worksheet named \"customers.\" We'll use this worksheet to create our pie chart.\n",
    "\n",
    "Click the worksheet tab in the toolbar. (Remember, this is the tab on the left.)\n",
    "\n",
    "Change the name of the worksheet to \"customers.\"\n",
    "\n",
    "For our pie chart, we'll need the Usertype dimension and the 201908-citibike-tripdata.csv (Count) measure. Within the Usertype dimension, you'll notice that there are two types of users: subscribers and customers. \"Subscribers\" refers to annual subscribers of the bike-sharing service, while \"customers\" are the short-term riders.\n",
    "\n",
    "Next, add the Usertype Dimension to the \"Color\" mark\n",
    "\n",
    "Now we can add the 201908-citibike-tripdata.csv (Count) measure. This will update the wedges of our pie chart to reflect the percentages of customer types. Drag the 201908-citibike-tripdata.csv (Count) measure into the Size mark and the Angle mark. \n",
    "\n",
    "Once these marks are in place, you can place your cursor over the pie wedges to see more details about them. In this case, we can see how many rides were recorded for each type of customer.\n",
    "\n"
   ]
  },
  {
   "cell_type": "raw",
   "metadata": {},
   "source": [
    "14.2.7 Find the Peak Riding Hours in August\n",
    "\n",
    "Since August can be a good month to visit New York City, next we'll figure out the peak hours for bike trips during the month of August. This will help our investors get a ballpark estimate of how many bikes we might need in Des Moines, as well as figure out during which parts of the day we'll need the most bikes. \n",
    "\n",
    "For example, if we need to do maintenance on a bike, knowing the peak usage hours will help us plan for the best time to do that."
   ]
  },
  {
   "cell_type": "raw",
   "metadata": {},
   "source": [
    "What Are Peak Riding Hours in the Month of August?\n",
    "Let's create a plot to show the peak hours in August. The first step is to create a worksheet named \"August Peak Hours.\"\n",
    "\n",
    "In the worksheet, we'll look at the \"Starttime\" dimension, as this is a good indicator of when customers tend to begin their bike rides. Drag this dimension to the \"Rows\" section.\n",
    "\n",
    "Since we want to find the peak hours, we need to change \"Year\" to \"Hour\" for the Starttime. To do this, click the arrow, scroll down to \"More,\" and select \"Hour,\" as shown in the following image:\n",
    "\n",
    "Next, we need to add the 201908-citibike-tripdata.csv (Count) measure. We want the sum of all records, so if Tableau doesn't automatically change it to \"SUM,\" click the arrow and select \"Measure (Sum).\" \n",
    "\n",
    "If your workspace doesn't look like this, make sure that you have selected the correct type of graph. You can change the graph type by clicking \"Show Me\" in the top right of your workspace, and then selecting the bar chart option:\n",
    "\n",
    "Nice work! We now have a plot for the peak riding hours in August. We can move on to finding the top starting location for Citi Bike rides.\n",
    "\n"
   ]
  }
 ],
 "metadata": {
  "kernelspec": {
   "display_name": "PythonData",
   "language": "python",
   "name": "pythondata"
  },
  "language_info": {
   "codemirror_mode": {
    "name": "ipython",
    "version": 3
   },
   "file_extension": ".py",
   "mimetype": "text/x-python",
   "name": "python",
   "nbconvert_exporter": "python",
   "pygments_lexer": "ipython3",
   "version": "3.7.7"
  }
 },
 "nbformat": 4,
 "nbformat_minor": 4
}
