{
 "cells": [
  {
   "cell_type": "raw",
   "metadata": {},
   "source": [
    "14.3.1 Find Top Starting Locations\n",
    "\n",
    "Now we're going to use the data to find the most popular stations in the city for starting a bike journey. We'll start by creating a worksheet.\n",
    "\n"
   ]
  },
  {
   "cell_type": "raw",
   "metadata": {},
   "source": [
    "What Are the Top Bike Stations in the City for Starting a Journey?\n",
    "\n",
    "Create a new worksheet by following the steps you completed previously. \n",
    "\n",
    "Look at the bottom of your workspace and find the sheet you just created. Double-click the text in the tab, and then type \"Top Starting Locations.\"\n",
    "\n",
    "We'll be creating a basic symbol map to visualize the top 10 starting locations. A symbol map is a map with symbols that correlate to the numeric value of the map location. The most popular starting locations will be marked by larger symbols on the map.\n"
   ]
  },
  {
   "cell_type": "raw",
   "metadata": {},
   "source": [
    "Create a Symbol Map\n",
    "Let's begin by identifying the dimensions and measures we need. The measures we'll need for our map are the Start Station Latitude and Start Station Longitude. These measures will provide the geographic location of the bike rental starting points. We'll also need the Number of Records dimension.\n",
    "\n",
    "Drag the \"Start Station Longitude\" measure to the Columns section and \"Start Station Latitude\" to the Rows section. Note that you will need to change these to dimensions by clicking the arrow for each item and selecting \"Dimension.\" The following image shows what your window will look like after dragging the measures to the Columns and Rows sections. Note that \"Start Station Latitude\" and \"Start Station Longitude\" should not be preceded by \"AVG\" or \"SUM.\"\n",
    "\n",
    "When the measures are in place, we need to move them over to the Marks section. The type of plot may be set to \"Automatic,\" which should be changed to \"Map.\" Here's what the symbol map will now look like:\n",
    "\n",
    "Notice that all of the symbols are the same size. Remember that we want the most popular starting locations, which means we need to adjust the size and color to represent the popularity of a given location.\n",
    "\n",
    "Adjust Size and Color of the Symbols\n",
    "First, we'll adjust the size of the symbols so we can determine the most popular locations at a glance.\n",
    "\n",
    "Drag the 201908-citibike-tripdata.csv (Count) measure into the Size button within the Marks section.\n",
    "\n",
    "When the sizing mark is added, your symbol map will look like the following:\n",
    "\n",
    "Now that the symbol size has been adjusted, let's work on the colors. We want to adjust the colors to help us differentiate between the most popular locations and less popular locations. To do this, drag the 201908-citibike-tripdata.csv (Count) measure into the Color mark. The map should now look like this:\n",
    "\n",
    "Great work! We've created our first symbol map, which will allow us to tell a story with our data later. Next, let's create a symbol map for the most popular bike ride ending locations."
   ]
  },
  {
   "cell_type": "raw",
   "metadata": {},
   "source": [
    "14.3.2 Find Top Ending Locations\n",
    "\n",
    "We successfully created a symbol map for the top starting locations for bike rides, according to our Citi Bike data. Now let's do the same thing for the most popular places to end a bike ride.\n",
    "\n"
   ]
  },
  {
   "cell_type": "raw",
   "metadata": {},
   "source": [
    "What Are the Top Bike Stations for Ending a Journey?\n",
    "Start by creating a new worksheet and naming it \"Top Ending Locations.\"\n",
    "\n",
    "As we did before, the next step is to identify the dimensions and measures we'll need. For our geographic coordinates, we want the \"End Station Latitude\" and \"End Station Longitude\" measures. To correspond with our coordinates, we'll need the 201908-citibike-tripdata.csv (Count) dimension as well.\n",
    "\n",
    "Next, drag the \"End Station Latitude\" to the Rows section and change it to a dimension. Then drag \"End Station Longitude\" to the Columns section and change it to a dimension as well. \n",
    "\n",
    "Now we need to add the 201908-citibike-tripdata.csv (Count) measure to the Size mark. You should see a symbol map that looks like the following image:\n",
    "\n",
    "The size of the symbols now correspond to the popularity of a given location, which is exactly what we want. Now we just need to add the 201908-citibike-tripdata.csv (Count) to the Color mark. This will adjust the color of the symbols so that they represent the most popular ending locations. As before, the darker the color, the more popular the location is.\n",
    "\n",
    "Now, for this worksheet, we're going to change the colors so that we can determine at a glance if a symbol is popular or not. To do this, first click the Color mark to expand the options, as shown in the following image:\n",
    "\n",
    "Click \"Edit Colors,\" and then select the palette dropdown. Choose the red-gold color scheme. If the location is more popular, it will be red; if it's less popular, it will be gold. \n",
    "\n",
    "Nice work! The symbol map for top ending locations is complete. Now let's take a look at what the data says about gender and bike rides."
   ]
  },
  {
   "cell_type": "raw",
   "metadata": {},
   "source": [
    "14.3.3 Find the Number of Rides by Gender\n",
    "\n",
    "We now want to know the gender breakdown of Citi Bike riders to help us learn a little more about the customers.\n"
   ]
  },
  {
   "cell_type": "raw",
   "metadata": {},
   "source": [
    "What Is the Gender Breakdown of Active Riders?\n",
    "Create a new worksheet and name it \"Gender Breakdown.\" We'll use this worksheet to create a pie chart for our data to show the gender breakdown.\n",
    "\n",
    "Next, identify the measures and dimensions needed for this worksheet: Gender and 201908-citibike-tripdata.csv (Count) measures.\n",
    "\n",
    "Drag the Gender measure to the Color mark. \n",
    "\n",
    "In the Marks section, you'll notice Gender is within a \"SUM\" function. We'll want to change this to a dimension, as this will allow it to be the sum of all gender rows we have in our data. Place your cursor over \"SUM(Gender).\" Click the arrow and select the dimension button.\n",
    "\n",
    "Next, drag the 201908-citibike-tripdata.csv (Count) measure to the Angle mark.\n",
    "\n",
    "If you place your cursor over each piece of the pie, you will see 0, 1, and 2. If you go back to where we downloaded our data, Citi Bike tells us that 0 represents \"Unknown,\" 1 represents \"Male,\" and 2 represents \"Female.\" But remember, even though we have this information, the audience viewing our data likely will not. Therefore, we need a calculated field."
   ]
  },
  {
   "cell_type": "raw",
   "metadata": {},
   "source": [
    "Create a Calculated Field\n",
    "A calculated field essentially allows us to write code to customize our data. In this case, we'll customize so that the pie chart has a tooltip that displays Unknown, Male, and Female.\n",
    "\n",
    "To create a calculated field, return to the data source tab, as shown in the following image. You can do this by clicking the data source tab at the bottom of your workspace:\n",
    "\n",
    "Scroll over to the Gender dimension in your data and click the number sign. Then select the String option. Note that we need to complete this step to ensure the calculated field works correctly:\n",
    "\n",
    "With the data type changed, we can start looking at the calculated field. Click the arrow in the Gender dimension and select \"Create Calculated Field,\" as shown in the following image.\n",
    "\n",
    "The image below shows the window that will pop up after selecting \"Create Calculated Field.\" Change the name of the calculated field to \"Number to String.\"\n",
    "\n",
    "Remember that we want to convert all numbers in the Gender dimension to the string version of unknown, male, or female.\n",
    "\n",
    "if [Gender] = '0' then 'unknown'\n",
    "ELSEIF [Gender] = '1' then 'Male'\n",
    "ELSEIF [Gender] = '2' then 'Female' END\n",
    "\n",
    "Once this code has been entered, click OK. Your pie chart will be updated so that you can see the number for each gender.\n",
    "\n",
    "Now return to your worksheet and drag the \"Number to String\" dimension to the Color mark. This is what your worksheet will look like now.\n",
    "\n",
    "Great work! Remember that you can place your cursor over each of the pie slices to see which gender tends to use bike sharing the most."
   ]
  },
  {
   "cell_type": "raw",
   "metadata": {},
   "source": [
    "14.3.4 Find the Average Trip Duration by Age\n",
    "\n",
    "We know the breakdown of riders by gender, but learning other details about the riders will further assist our analysis. Let's take a look at the average duration of a bike ride, by age. This will help us set expectations for trip duration in Des Moines.\n",
    "\n"
   ]
  },
  {
   "cell_type": "raw",
   "metadata": {},
   "source": [
    "What Is the Average Trip Duration by Age?\n",
    "Begin by creating a new worksheet named \"Average Trip Duration.\" The next step is to identify the measures and dimensions needed.\n",
    "\n",
    "Drag Tripduration and Birth Year to the worksheet.\n",
    "\n",
    "We'll create an area chart, which will best represent this data. Area charts in Tableau are essentially line charts that are filled in below the line. Get started by dragging the Birth Year dimension into the Columns section, and the Tripduration measure into the Rows section. Be sure to change the Tripduration to be the average rather than the sum, as shown in the following image:\n",
    "\n",
    "Next, go to the Marks section and change the visualization type to Area:"
   ]
  },
  {
   "cell_type": "raw",
   "metadata": {},
   "source": [
    "Great job—we have a plot that represents our data well. Take a moment to view the worksheet and think about what the data is telling us. How is birth year related to the length of a bike ride?\n",
    "\n",
    "In general, what is the relationship between birth year and trip length, according to the data? \n",
    "In general, the later the birth year, the longer the ride duration. "
   ]
  },
  {
   "cell_type": "raw",
   "metadata": {},
   "source": [
    "14.3.5 Determine the Bikes Due for Repair\n",
    "\n",
    "What might the key costs be in a bike-share business? You mull over this question until inspiration strikes: beyond the initial setup, bike maintenance will likely be one of the biggest expenses. So, what can the data tell us about the upkeep bikes might need?\n",
    "\n",
    "A likely concern of investors is the cost of bike upkeep. The bikes used most frequently will probably be the ones that require the most maintenance, so we'll need to determine which bikes have the highest sum of \"Number of Rides.\"\n",
    "\n",
    "\n"
   ]
  },
  {
   "cell_type": "raw",
   "metadata": {},
   "source": [
    "Which Bikes Are Most Likely Due for Repair?\n",
    "Begin by creating a worksheet called \"Bike Repairs.\" Now identify the measures and dimensions needed.\n",
    "\n",
    "Now let's create a treemap. Start by dragging the 201908-citibike-tripdata.csv (Count) measure to the Size mark.\n",
    "\n",
    "Next, drag the 201908-citibike-tripdata.csv (Count) measure to the Color mark. Here's what that will look like:\n",
    "\n",
    "Finally, drag the Bikeid measure to the Text mark. You will need to change the Bikeid to a dimension by clicking the arrow in the \"Bikeid\" box and selecting dimension. The worksheet will now look like the following:\n",
    "\n",
    "Good work! Now we can look at our treemap to get an idea of how often each bike is used, and then note which ones are used most frequently."
   ]
  },
  {
   "cell_type": "raw",
   "metadata": {},
   "source": [
    "SKILL DRILL\n",
    "Consider how this data might be better represented. Then redesign the worksheet to more clearly represent the bikes that might need the most repairs. In order to redesign the worksheet, you may need to look at other visualizations that might be a better fit."
   ]
  },
  {
   "cell_type": "raw",
   "metadata": {},
   "source": [
    "14.3.6 Determine Bike Utilization\n",
    "\n",
    "Now that we've found the number of trips per bike during the month of August, we should figure out how long those rides are and if there are bikes that need more attention than others. We'll use the bike ID as a metric for this part of the analysis and create a packed bubbles visualization."
   ]
  },
  {
   "cell_type": "raw",
   "metadata": {},
   "source": [
    "How Variable Is Bike Utilization?\n",
    "Begin by creating a new worksheet named Bike Utilization. \n",
    "\n",
    "Next, identify the measures and dimensions needed to create the packed bubbles visualization: Tripduration and Bikeid. These will allow us to view the total usage time per bike, as well as which bikes are used the most frequently, which will give us insight into which bikes may need repairs.\n",
    "\n",
    "Go to the dropdown menu in the Marks section and select Circle\n",
    "\n",
    "Next, drag the Tripduration measure into the Size mark, so that your workspace looks like this:\n",
    "\n",
    "Then drag the Bikeid into the Text mark:\n",
    "\n",
    "You may notice that the plot doesn't look quite right. There is only one point in the visualization, which is not what we want. To fix it, change the Bikeid to a dimension. \n",
    "\n",
    "Nice work! The bubbles in this plot show the bike utilization levels. If a bike has a higher utilization level, it will be a larger bubble. Feel free to change the colors to make the more utilized bikes stand out more.\n",
    "\n",
    "Now that we've got our bike utilization by Bikeid, we can start to piece together some of the questions that we've answered. Let's dive deeper into this."
   ]
  }
 ],
 "metadata": {
  "kernelspec": {
   "display_name": "PythonData",
   "language": "python",
   "name": "pythondata"
  },
  "language_info": {
   "codemirror_mode": {
    "name": "ipython",
    "version": 3
   },
   "file_extension": ".py",
   "mimetype": "text/x-python",
   "name": "python",
   "nbconvert_exporter": "python",
   "pygments_lexer": "ipython3",
   "version": "3.7.7"
  }
 },
 "nbformat": 4,
 "nbformat_minor": 4
}
